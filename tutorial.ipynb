{
 "cells": [
  {
   "cell_type": "markdown",
   "metadata": {},
   "source": [
    "# Mi primer programa en Python"
   ]
  },
  {
   "cell_type": "code",
   "execution_count": 1,
   "metadata": {},
   "outputs": [
    {
     "name": "stdout",
     "output_type": "stream",
     "text": [
      "Hola Mundo\n"
     ]
    }
   ],
   "source": [
    "# esto es una cadena\n",
    "c = \"Hola Mundo\"\n",
    "print (c)"
   ]
  },
  {
   "cell_type": "markdown",
   "metadata": {},
   "source": [
    "# Tipos básicos"
   ]
  },
  {
   "cell_type": "code",
   "execution_count": 3,
   "metadata": {},
   "outputs": [
    {
     "data": {
      "text/plain": [
       "int"
      ]
     },
     "execution_count": 3,
     "metadata": {},
     "output_type": "execute_result"
    }
   ],
   "source": [
    "# y esto es un entero\n",
    "e = 23\n",
    "# podemos comprobarlo con la función type\n",
    "type(e)"
   ]
  },
  {
   "cell_type": "code",
   "execution_count": 4,
   "metadata": {},
   "outputs": [],
   "source": [
    "# 027 octal = 23 en base 10\n",
    "entero = 0o27"
   ]
  },
  {
   "cell_type": "code",
   "execution_count": 5,
   "metadata": {},
   "outputs": [
    {
     "data": {
      "text/plain": [
       "int"
      ]
     },
     "execution_count": 5,
     "metadata": {},
     "output_type": "execute_result"
    }
   ],
   "source": [
    "type(entero)"
   ]
  },
  {
   "cell_type": "code",
   "execution_count": 6,
   "metadata": {},
   "outputs": [],
   "source": [
    "# 0×17 hexadecimal = 23 en base 10\n",
    "entero = 0x17"
   ]
  },
  {
   "cell_type": "code",
   "execution_count": 7,
   "metadata": {},
   "outputs": [
    {
     "data": {
      "text/plain": [
       "int"
      ]
     },
     "execution_count": 7,
     "metadata": {},
     "output_type": "execute_result"
    }
   ],
   "source": [
    "type(entero)"
   ]
  },
  {
   "cell_type": "code",
   "execution_count": 8,
   "metadata": {},
   "outputs": [],
   "source": [
    "# numeros reales\n",
    "real = 0.2703"
   ]
  },
  {
   "cell_type": "code",
   "execution_count": 9,
   "metadata": {},
   "outputs": [
    {
     "data": {
      "text/plain": [
       "float"
      ]
     },
     "execution_count": 9,
     "metadata": {},
     "output_type": "execute_result"
    }
   ],
   "source": [
    "type(real)"
   ]
  },
  {
   "cell_type": "code",
   "execution_count": 10,
   "metadata": {},
   "outputs": [],
   "source": [
    "# numeros reales\n",
    "real = 0.1e-3"
   ]
  },
  {
   "cell_type": "code",
   "execution_count": 11,
   "metadata": {},
   "outputs": [
    {
     "data": {
      "text/plain": [
       "float"
      ]
     },
     "execution_count": 11,
     "metadata": {},
     "output_type": "execute_result"
    }
   ],
   "source": [
    "type(real)"
   ]
  },
  {
   "cell_type": "code",
   "execution_count": 12,
   "metadata": {},
   "outputs": [],
   "source": [
    "# numeros complejos\n",
    "complejo = 2.1 + 7.8j"
   ]
  },
  {
   "cell_type": "code",
   "execution_count": 13,
   "metadata": {},
   "outputs": [
    {
     "data": {
      "text/plain": [
       "complex"
      ]
     },
     "execution_count": 13,
     "metadata": {},
     "output_type": "execute_result"
    }
   ],
   "source": [
    "type(complejo)"
   ]
  },
  {
   "cell_type": "markdown",
   "metadata": {},
   "source": [
    "# Operadores aritméticos"
   ]
  },
  {
   "cell_type": "code",
   "execution_count": 15,
   "metadata": {},
   "outputs": [
    {
     "name": "stdout",
     "output_type": "stream",
     "text": [
      "5\n"
     ]
    }
   ],
   "source": [
    "# Suma\n",
    "r = 3 + 2 # r es 5\n",
    "print (r)"
   ]
  },
  {
   "cell_type": "code",
   "execution_count": 16,
   "metadata": {},
   "outputs": [
    {
     "name": "stdout",
     "output_type": "stream",
     "text": [
      "-3\n"
     ]
    }
   ],
   "source": [
    "# Resta\n",
    "r = 4 - 7 # r es -3\n",
    "print (r)"
   ]
  },
  {
   "cell_type": "code",
   "execution_count": 17,
   "metadata": {},
   "outputs": [
    {
     "name": "stdout",
     "output_type": "stream",
     "text": [
      "-7\n"
     ]
    }
   ],
   "source": [
    "# Negación\n",
    "r = -7 # r es -7\n",
    "print (r)"
   ]
  },
  {
   "cell_type": "code",
   "execution_count": 18,
   "metadata": {},
   "outputs": [
    {
     "name": "stdout",
     "output_type": "stream",
     "text": [
      "12\n"
     ]
    }
   ],
   "source": [
    "# Multiplicación\n",
    "r = 2 * 6 # r es 12\n",
    "print (r)"
   ]
  },
  {
   "cell_type": "code",
   "execution_count": 19,
   "metadata": {},
   "outputs": [
    {
     "name": "stdout",
     "output_type": "stream",
     "text": [
      "64\n"
     ]
    }
   ],
   "source": [
    "# Multiplicación\n",
    "r = 2 ** 6 # r es 64\n",
    "print (r)"
   ]
  },
  {
   "cell_type": "code",
   "execution_count": 20,
   "metadata": {},
   "outputs": [
    {
     "name": "stdout",
     "output_type": "stream",
     "text": [
      "1.75\n"
     ]
    }
   ],
   "source": [
    "# División\n",
    "r = 3.5 / 2 # r es 1.75\n",
    "print (r)"
   ]
  },
  {
   "cell_type": "code",
   "execution_count": 21,
   "metadata": {},
   "outputs": [
    {
     "name": "stdout",
     "output_type": "stream",
     "text": [
      "1.0\n"
     ]
    }
   ],
   "source": [
    "# División entera\n",
    "r = 3.5 // 2 # r es 1.0\n",
    "print (r)"
   ]
  },
  {
   "cell_type": "code",
   "execution_count": 22,
   "metadata": {},
   "outputs": [
    {
     "name": "stdout",
     "output_type": "stream",
     "text": [
      "1\n"
     ]
    }
   ],
   "source": [
    "# Módulo. El operador de módulo no hace otra cosa que devolvernos el resto de la división entre los dos operandos.\n",
    "r = 7 % 2 # r es 1\n",
    "print (r)"
   ]
  },
  {
   "cell_type": "markdown",
   "metadata": {},
   "source": [
    "# Operadores a nivel de bit"
   ]
  },
  {
   "cell_type": "code",
   "execution_count": 24,
   "metadata": {},
   "outputs": [
    {
     "name": "stdout",
     "output_type": "stream",
     "text": [
      "2\n"
     ]
    }
   ],
   "source": [
    "# Por ejemplo, si veis una operación como 3 & 2, lo que estais viendo es un and bit a bit entre los números binarios 11 y 10 (las representaciones en binario de 3 y 2).\n",
    "# and\n",
    "r = 3 & 2 # r es 2\n",
    "print (r)"
   ]
  },
  {
   "cell_type": "code",
   "execution_count": 25,
   "metadata": {},
   "outputs": [
    {
     "name": "stdout",
     "output_type": "stream",
     "text": [
      "3\n"
     ]
    }
   ],
   "source": [
    "# or\n",
    "r = 3 | 2 # r es 3\n",
    "print (r)"
   ]
  },
  {
   "cell_type": "code",
   "execution_count": 26,
   "metadata": {},
   "outputs": [
    {
     "name": "stdout",
     "output_type": "stream",
     "text": [
      "1\n"
     ]
    }
   ],
   "source": [
    "# xor\n",
    "r = 3 ^ 2 # r es 1\n",
    "print (r)"
   ]
  },
  {
   "cell_type": "code",
   "execution_count": 27,
   "metadata": {},
   "outputs": [
    {
     "name": "stdout",
     "output_type": "stream",
     "text": [
      "-4\n"
     ]
    }
   ],
   "source": [
    "# not\n",
    "r = ~3 # r es -4\n",
    "print (r)"
   ]
  },
  {
   "cell_type": "code",
   "execution_count": 28,
   "metadata": {},
   "outputs": [
    {
     "name": "stdout",
     "output_type": "stream",
     "text": [
      "6\n"
     ]
    }
   ],
   "source": [
    "# Desplazamiento izq\n",
    "r = 3 << 1 # r es 6\n",
    "print (r)"
   ]
  },
  {
   "cell_type": "code",
   "execution_count": 29,
   "metadata": {},
   "outputs": [
    {
     "name": "stdout",
     "output_type": "stream",
     "text": [
      "1\n"
     ]
    }
   ],
   "source": [
    "# Desplazamiento der.\n",
    "r = 3 >> 1 # r es 1\n",
    "print (r)"
   ]
  },
  {
   "cell_type": "markdown",
   "metadata": {},
   "source": [
    "# Cadenas"
   ]
  },
  {
   "cell_type": "code",
   "execution_count": 31,
   "metadata": {},
   "outputs": [
    {
     "name": "stdout",
     "output_type": "stream",
     "text": [
      "Las cadenas no son más que texto encerrado entre comillas simples ('cadena') o dobles (\"cadena\"). Dentro de las comillas se pueden añadir caracteres especiales escapándolos con \\, como \\n, el carácter de nueva línea, o \\t, el de tabulación.\n"
     ]
    }
   ],
   "source": [
    "print(\"Las cadenas no son más que texto encerrado entre comillas simples ('cadena') o dobles (\\\"cadena\\\"). Dentro de las comillas se pueden añadir caracteres especiales escapándolos con \\\\, como \\\\n, el carácter de nueva línea, o \\\\t, el de tabulación.\")"
   ]
  },
  {
   "cell_type": "code",
   "execution_count": 32,
   "metadata": {},
   "outputs": [
    {
     "name": "stdout",
     "output_type": "stream",
     "text": [
      "Una cadena puede estar precedida por el carácter u o el carácter r, los cuales indican, respectivamente, que se trata de una cadena que utiliza codificación Unicode y una cadena raw (del inglés, cruda). \n",
      "\n",
      "Las cadenas raw se distinguen de las normales en que los caracteres escapados mediante la barra invertida (\\) no se sustituyen por sus contrapartidas. Esto es especialmente útil, por ejemplo, para las expresiones regulares, como veremos en el capítulo correspondiente.\n"
     ]
    }
   ],
   "source": [
    "print (\"Una cadena puede estar precedida por el carácter u o el carácter r, los cuales indican, respectivamente, que se trata de una cadena que utiliza codificación Unicode y una cadena raw (del inglés, cruda). \\n\\nLas cadenas raw se distinguen de las normales en que los caracteres escapados mediante la barra invertida (\\) no se sustituyen por sus contrapartidas. Esto es especialmente útil, por ejemplo, para las expresiones regulares, como veremos en el capítulo correspondiente.\")"
   ]
  },
  {
   "cell_type": "code",
   "execution_count": 33,
   "metadata": {},
   "outputs": [
    {
     "name": "stdout",
     "output_type": "stream",
     "text": [
      "äóè\n",
      "\\n\n"
     ]
    }
   ],
   "source": [
    "unicode = u\"äóè\"\n",
    "raw = r\"\\n\"\n",
    "print (unicode)\n",
    "print (raw)"
   ]
  },
  {
   "cell_type": "code",
   "execution_count": 34,
   "metadata": {},
   "outputs": [
    {
     "name": "stdout",
     "output_type": "stream",
     "text": [
      "primera linea\n",
      "esto se vera en otra linea\n"
     ]
    }
   ],
   "source": [
    "# Podremos escribir el texto en varias líneas, y al imprimir la cadena\n",
    "triple = \"\"\"primera linea\n",
    "esto se vera en otra linea\"\"\"\n",
    "print (triple)"
   ]
  },
  {
   "cell_type": "code",
   "execution_count": 35,
   "metadata": {},
   "outputs": [
    {
     "name": "stdout",
     "output_type": "stream",
     "text": [
      "Las cadenas también admiten operadores como +, que funciona realizando una concatenación de las cadenas utilizadas como operandos y *, en la que se repite la cadena tantas veces como lo indique el número utilizado como segundo operando.\n"
     ]
    }
   ],
   "source": [
    "print (\"Las cadenas también admiten operadores como +, que funciona realizando una concatenación de las cadenas utilizadas como operandos y *, en la que se repite la cadena tantas veces como lo indique el número utilizado como segundo operando.\")"
   ]
  },
  {
   "cell_type": "code",
   "execution_count": 36,
   "metadata": {},
   "outputs": [
    {
     "name": "stdout",
     "output_type": "stream",
     "text": [
      "unodos\n",
      "unounouno\n"
     ]
    }
   ],
   "source": [
    "a = \"uno\"\n",
    "b = \"dos\"\n",
    "c = a + b # c es \"unodos\"\n",
    "print (c)\n",
    "c = a * 3 # c es \"unounouno\"\n",
    "print (c)"
   ]
  },
  {
   "cell_type": "markdown",
   "metadata": {},
   "source": [
    "# Booleanos"
   ]
  },
  {
   "cell_type": "code",
   "execution_count": 38,
   "metadata": {},
   "outputs": [
    {
     "name": "stdout",
     "output_type": "stream",
     "text": [
      "False\n"
     ]
    }
   ],
   "source": [
    "# and ¿se cumple a y b? \n",
    "r = True and False # r es False\n",
    "print (r)"
   ]
  },
  {
   "cell_type": "code",
   "execution_count": 39,
   "metadata": {},
   "outputs": [
    {
     "name": "stdout",
     "output_type": "stream",
     "text": [
      "True\n"
     ]
    }
   ],
   "source": [
    "# or ¿se cumple a o b?\n",
    "r = True or False # r es True\n",
    "print (r)"
   ]
  },
  {
   "cell_type": "code",
   "execution_count": 40,
   "metadata": {},
   "outputs": [
    {
     "name": "stdout",
     "output_type": "stream",
     "text": [
      "False\n"
     ]
    }
   ],
   "source": [
    "# not No a\n",
    "r = not True # r es False\n",
    "print (r)"
   ]
  },
  {
   "cell_type": "code",
   "execution_count": 41,
   "metadata": {},
   "outputs": [
    {
     "name": "stdout",
     "output_type": "stream",
     "text": [
      "Los valores booleanos son además el resultado de expresiones que utilizan operadores relacionales (comparaciones entre valores):\n"
     ]
    }
   ],
   "source": [
    "print (\"Los valores booleanos son además el resultado de expresiones que utilizan operadores relacionales (comparaciones entre valores):\")"
   ]
  },
  {
   "cell_type": "code",
   "execution_count": 42,
   "metadata": {},
   "outputs": [
    {
     "name": "stdout",
     "output_type": "stream",
     "text": [
      "False\n"
     ]
    }
   ],
   "source": [
    "# == ¿son iguales a y b?\n",
    "r = 5 == 3 # r es False\n",
    "print (r)"
   ]
  },
  {
   "cell_type": "code",
   "execution_count": 43,
   "metadata": {},
   "outputs": [
    {
     "name": "stdout",
     "output_type": "stream",
     "text": [
      "True\n"
     ]
    }
   ],
   "source": [
    "# != ¿son distintos a y b?\n",
    "r = 5 != 3 # r es True\n",
    "print (r)"
   ]
  },
  {
   "cell_type": "code",
   "execution_count": 44,
   "metadata": {},
   "outputs": [
    {
     "name": "stdout",
     "output_type": "stream",
     "text": [
      "False\n"
     ]
    }
   ],
   "source": [
    "# < ¿son distintos a y b?\n",
    "r = 5 < 3 # r es False\n",
    "print (r)"
   ]
  },
  {
   "cell_type": "code",
   "execution_count": 45,
   "metadata": {},
   "outputs": [
    {
     "name": "stdout",
     "output_type": "stream",
     "text": [
      "True\n"
     ]
    }
   ],
   "source": [
    "# > ¿es a mayor que b?\n",
    "r = 5 > 3 # r es True\n",
    "print (r)"
   ]
  },
  {
   "cell_type": "code",
   "execution_count": 46,
   "metadata": {},
   "outputs": [
    {
     "name": "stdout",
     "output_type": "stream",
     "text": [
      "True\n"
     ]
    }
   ],
   "source": [
    "# <= ¿es a menor o igual que b?\n",
    "r = 5 <= 5 # r es True\n",
    "print (r)"
   ]
  },
  {
   "cell_type": "code",
   "execution_count": 47,
   "metadata": {},
   "outputs": [
    {
     "name": "stdout",
     "output_type": "stream",
     "text": [
      "True\n"
     ]
    }
   ],
   "source": [
    "# >= ¿es a mayor o igual que b?\n",
    "r = 5 >= 3 # r es True\n",
    "print (r)"
   ]
  },
  {
   "cell_type": "markdown",
   "metadata": {},
   "source": [
    "# Colecciones - Listas"
   ]
  },
  {
   "cell_type": "code",
   "execution_count": 1,
   "metadata": {},
   "outputs": [
    {
     "name": "stdout",
     "output_type": "stream",
     "text": [
      "22\n",
      "[1, 2]\n"
     ]
    }
   ],
   "source": [
    "l = [22, True, \"una lista\", [1, 2]]\n",
    "mi_var = l[0] # mi_var vale 22\n",
    "mi_var1 = l[3] # mi_var1 vale [1, 2]\n",
    "print (mi_var)\n",
    "print (mi_var1)"
   ]
  },
  {
   "cell_type": "code",
   "execution_count": 50,
   "metadata": {},
   "outputs": [
    {
     "name": "stdout",
     "output_type": "stream",
     "text": [
      "1\n"
     ]
    }
   ],
   "source": [
    "# Si queremos acceder a un elemento de una lista incluida dentro de otra lista tendremos que \n",
    "# utilizar dos veces este operador\n",
    "l = [\"una lista\", [1, 2]]\n",
    "mi_var = l[1][0] # mi_var vale 1\n",
    "print (mi_var)"
   ]
  },
  {
   "cell_type": "code",
   "execution_count": 51,
   "metadata": {},
   "outputs": [
    {
     "name": "stdout",
     "output_type": "stream",
     "text": [
      "[99, True]\n"
     ]
    }
   ],
   "source": [
    "# También podemos utilizar este operador para modificar un elemento de la lista si lo colocamos en la parte izquierda \n",
    "# de una asignación\n",
    "l = [22, True]\n",
    "l[0] = 99 # Con esto l valdrá [99, True]\n",
    "print (l)"
   ]
  },
  {
   "cell_type": "code",
   "execution_count": 52,
   "metadata": {},
   "outputs": [
    {
     "name": "stdout",
     "output_type": "stream",
     "text": [
      "último\n",
      "penúltimo\n",
      "antepenúltimo\n"
     ]
    }
   ],
   "source": [
    "# Una curiosidad sobre el operador [] de Python es que podemos utilizar también números negativos. Si se utiliza un número \n",
    "# negativo como índice, esto se traduce en que el índice empieza a contar desde el final, hacia la izquierda; es decir, \n",
    "# con [-1] accederíamos al último elemento de la lista, con [-2] al penúltimo, con [-3], al antepenúltimo, y así \n",
    "# sucesivamente.\n",
    "l = [22, True, \"una lista\", [1, 2], \"antepenúltimo\", \"penúltimo\",  \"último\"]\n",
    "print (l[-1]) # último\n",
    "print (l[-2]) # penúltimo\n",
    "print (l[-3]) # antepenúltimo"
   ]
  },
  {
   "cell_type": "code",
   "execution_count": 53,
   "metadata": {},
   "outputs": [
    {
     "name": "stdout",
     "output_type": "stream",
     "text": [
      "[99, True]\n",
      "[99, 'una lista']\n"
     ]
    }
   ],
   "source": [
    "# Otra cosa inusual es lo que en Python se conoce como slicing o particionado, y que consiste en ampliar este mecanismo \n",
    "# para permitir seleccionar porciones de la lista. Si en lugar de un número escribimos dos números inicio y fin separados \n",
    "# por dos puntos (inicio:fin) Python interpretará que queremos una lista que vaya desde la posición inicio a la posición \n",
    "# fin, sin incluir este último. Si escribimos tres números (inicio:fin:salto) en lugar de dos, el tercero se utiliza para \n",
    "# determinar cada cuantas posiciones añadir un elemento a la lista.\n",
    "l = [99, True, \"una lista\", [1, 2]]\n",
    "mi_var = l[0:2] # mi_var vale [99, True]\n",
    "print (mi_var)\n",
    "mi_var = l[0:4:2] # mi_var vale [99, \"una lista\"]\n",
    "print (mi_var)"
   ]
  },
  {
   "cell_type": "code",
   "execution_count": 54,
   "metadata": {},
   "outputs": [
    {
     "name": "stdout",
     "output_type": "stream",
     "text": [
      "[True, 'una lista']\n",
      "[99, True]\n",
      "[99, True, 'una lista']\n",
      "[99, 'una lista']\n"
     ]
    }
   ],
   "source": [
    "# Hay que mencionar así mismo que no es necesario indicar el principio y el final del slicing, sino que, si estos se \n",
    "# omiten, se usarán por defecto las posiciones de inicio y fin de la lista, respectivamente:\n",
    "l = [99, True, \"una lista\"]\n",
    "mi_var = l[1:] # mi_var vale [True, \"una lista\"]\n",
    "print (mi_var)\n",
    "mi_var = l[:2] # mi_var vale [99, True]\n",
    "print (mi_var)\n",
    "mi_var = l[:] # mi_var vale [99, True, \"una lista\"]\n",
    "print (mi_var)\n",
    "mi_var = l[::2] # mi_var vale [99, \"una lista\"]\n",
    "print (mi_var)"
   ]
  },
  {
   "cell_type": "code",
   "execution_count": 55,
   "metadata": {},
   "outputs": [
    {
     "name": "stdout",
     "output_type": "stream",
     "text": [
      "[0, 1, 'una lista', [1, 2]]\n"
     ]
    }
   ],
   "source": [
    "# También podemos utilizar este mecanismo para modificar la lista:\n",
    "l = [99, True, \"una lista\", [1, 2]]\n",
    "l[0:2] = [0, 1] # l vale [0, 1, \"una lista\", [1, 2]]\n",
    "print (l)"
   ]
  },
  {
   "cell_type": "markdown",
   "metadata": {},
   "source": [
    "# Colecciones - Tuplas"
   ]
  },
  {
   "cell_type": "code",
   "execution_count": 57,
   "metadata": {},
   "outputs": [
    {
     "name": "stdout",
     "output_type": "stream",
     "text": [
      "(1, 2, True, 'python')\n"
     ]
    }
   ],
   "source": [
    "# Todo lo que hemos explicado sobre las listas se aplica también a las tuplas, a excepción de la forma de definirla, \n",
    "# para lo que se utilizan paréntesis en lugar de corchetes.\n",
    "t = (1, 2, True, \"python\")\n",
    "print (t)"
   ]
  },
  {
   "cell_type": "markdown",
   "metadata": {},
   "source": [
    "# Colecciones - Diccionarios"
   ]
  },
  {
   "cell_type": "code",
   "execution_count": 59,
   "metadata": {},
   "outputs": [
    {
     "name": "stdout",
     "output_type": "stream",
     "text": [
      "Richard Curtis\n",
      "Quentin Tarantino\n"
     ]
    }
   ],
   "source": [
    "# Los diccionarios, también llamados matrices asociativas, deben su nombre a que son colecciones que relacionan una clave y\n",
    "# un valor. Por ejemplo, veamos un diccionario de películas y directores:\n",
    "d = {\"Love Actually\": \"Richard Curtis\", \"Kill Bill\": \"Tarantino\", \"Amélie\": \"Jean-Pierre Jeunet\"}\n",
    "\n",
    "# La diferencia principal entre los diccionarios y las listas o las tuplas es que a los valores almacenados en un \n",
    "# diccionario se les accede no por su índice, porque de hecho no tienen orden, sino por su clave, utilizando de nuevo \n",
    "# el operador [].\n",
    "mi_var = d[\"Love Actually\"] # devuelve \"Richard Curtis\"\n",
    "print (mi_var)\n",
    "\n",
    "# Al igual que en listas y tuplas también se puede utilizar este operador para reasignar valores.\n",
    "d[\"Kill Bill\"] = \"Quentin Tarantino\"\n",
    "mi_var = d[\"Kill Bill\"] # devuelve \"Quentin Tarantino\"\n",
    "print (mi_var)"
   ]
  },
  {
   "cell_type": "markdown",
   "metadata": {},
   "source": [
    "# Control de flujo - Sentencias condicionales"
   ]
  },
  {
   "cell_type": "code",
   "execution_count": 61,
   "metadata": {},
   "outputs": [
    {
     "name": "stdout",
     "output_type": "stream",
     "text": [
      "Tienes buen gusto!\n",
      "Gracias\n"
     ]
    }
   ],
   "source": [
    "# if es La forma más simple de un estamento condicional es un if (del inglés si) seguido de la condición a evaluar, \n",
    "# dos puntos (:) y en la siguiente línea e indentado, el código a ejecutar en caso de que se cumpla dicha condición.\n",
    "fav = \"mundogeek.net\"\n",
    "# si (if) fav es igual a “mundogeek.net”\n",
    "if fav == \"mundogeek.net\":\n",
    "    print (\"Tienes buen gusto!\")\n",
    "    print (\"Gracias\") "
   ]
  },
  {
   "cell_type": "code",
   "execution_count": 62,
   "metadata": {},
   "outputs": [
    {
     "name": "stdout",
     "output_type": "stream",
     "text": [
      "Vaya, que lástima\n"
     ]
    }
   ],
   "source": [
    "fav = \"lastima.net\"\n",
    "if fav == \"mundogeek.net\":\n",
    "    print (\"Tienes buen gusto!\")\n",
    "    print (\"Gracias\") \n",
    "else:\n",
    "    print (\"Vaya, que lástima\")"
   ]
  },
  {
   "cell_type": "code",
   "execution_count": 63,
   "metadata": {},
   "outputs": [
    {
     "name": "stdout",
     "output_type": "stream",
     "text": [
      "Cero\n"
     ]
    }
   ],
   "source": [
    "numero = 0\n",
    "if numero < 0:\n",
    "    print (\"Negativo\")\n",
    "elif numero > 0:\n",
    "    print (\"Positivo\")\n",
    "else:\n",
    "    print (\"Cero\")"
   ]
  },
  {
   "cell_type": "code",
   "execution_count": 64,
   "metadata": {},
   "outputs": [
    {
     "name": "stdout",
     "output_type": "stream",
     "text": [
      "impar\n"
     ]
    }
   ],
   "source": [
    "# También existe una construcción similar al operador ? de otros lenguajes, que no es más que una forma compacta de \n",
    "# expresar un if else. En esta construcción se evalúa el predicado C y se devuelve A si se cumple o B si no se cumple: \n",
    "# A if C else B. Veamos un ejemplo:\n",
    "num = 5\n",
    "var = \"par\" if (num % 2 == 0) else \"impar\"\n",
    "print (var)"
   ]
  },
  {
   "cell_type": "markdown",
   "metadata": {},
   "source": [
    "# Control de flujo - Bucles"
   ]
  },
  {
   "cell_type": "code",
   "execution_count": 66,
   "metadata": {},
   "outputs": [
    {
     "name": "stdout",
     "output_type": "stream",
     "text": [
      "Felicidades, tienes 1\n",
      "Felicidades, tienes 2\n",
      "Felicidades, tienes 3\n"
     ]
    }
   ],
   "source": [
    "# while El bucle while (mientras) ejecuta un fragmento de código mientras se cumpla una condición.\n",
    "edad = 0\n",
    "while edad < 3:\n",
    "    edad = edad + 1\n",
    "    print (\"Felicidades, tienes \" + str(edad))"
   ]
  },
  {
   "cell_type": "code",
   "execution_count": 67,
   "metadata": {},
   "outputs": [
    {
     "name": "stdout",
     "output_type": "stream",
     "text": [
      "> adios\n"
     ]
    }
   ],
   "source": [
    "# Sin embargo hay situaciones en las que un bucle infinito es útil. Por ejemplo, veamos un pequeño programa que repite \n",
    "# todo lo que el usuario diga hasta que escriba adios.\n",
    "while True:\n",
    "    entrada = input(\"> \")\n",
    "    if entrada == \"adios\":\n",
    "        break\n",
    "    else:\n",
    "        print (\"entrada\")"
   ]
  },
  {
   "cell_type": "code",
   "execution_count": 68,
   "metadata": {},
   "outputs": [
    {
     "name": "stdout",
     "output_type": "stream",
     "text": [
      "Felicidades, tienes1\n",
      "Felicidades, tienes3\n",
      "Felicidades, tienes5\n"
     ]
    }
   ],
   "source": [
    "# Otra palabra clave que nos podemos encontrar dentro de los bucles es continue (continuar). Como habréis adivinado no hace \n",
    "# otra cosa que pasar directamente a la siguiente iteración del bucle.\n",
    "edad = 0\n",
    "while edad < 5:\n",
    "    edad = edad + 1\n",
    "    if edad % 2 == 0:\n",
    "        continue\n",
    "    print (\"Felicidades, tienes\" + str(edad))"
   ]
  },
  {
   "cell_type": "code",
   "execution_count": 7,
   "metadata": {},
   "outputs": [
    {
     "name": "stdout",
     "output_type": "stream",
     "text": [
      "elemento: 1 secuencia: uno\n",
      "elemento: 2 secuencia: dos\n",
      "elemento: 3 secuencia: tres\n"
     ]
    }
   ],
   "source": [
    "# for … in A los que hayáis tenido experiencia previa con según que lenguajes este bucle os va a sorprender gratamente. \n",
    "# En Python for se utiliza como una forma genérica de iterar sobre una secuencia. Y como tal intenta facilitar su uso \n",
    "# para este fin.\n",
    "secuencia = [\"uno\", \"dos\", \"tres\"]\n",
    "i = 0\n",
    "for elemento in secuencia:\n",
    "    i = i + 1\n",
    "    print (\"elemento: \" + str(i) + \" secuencia: \" + str(elemento))"
   ]
  },
  {
   "cell_type": "markdown",
   "metadata": {},
   "source": [
    "# Funciones "
   ]
  },
  {
   "cell_type": "code",
   "execution_count": 6,
   "metadata": {},
   "outputs": [
    {
     "name": "stdout",
     "output_type": "stream",
     "text": [
      "hola\n",
      "2\n"
     ]
    }
   ],
   "source": [
    "# Una función es un fragmento de código con un nombre asociado que realiza una serie de tareas y devuelve un valor. \n",
    "# A los fragmentos de código que tienen un nombre asociado y no devuelven valores se les suele llamar procedimientos.\n",
    "def mi_funcion(param1, param2):\n",
    "    \"\"\"Esta funcion imprime los dos valores pasados    \n",
    "       como parametros\"\"\"    \n",
    "    print (param1)    \n",
    "    print (param2)\n",
    "    \n",
    "mi_funcion(\"hola\", 2)"
   ]
  },
  {
   "cell_type": "code",
   "execution_count": 7,
   "metadata": {},
   "outputs": [
    {
     "name": "stdout",
     "output_type": "stream",
     "text": [
      "hola\n",
      "2\n"
     ]
    }
   ],
   "source": [
    "# Sin embargo también es posible modificar el orden de los parámetros si indicamos el nombre del parámetro al que asociar \n",
    "# el valor a la hora de llamar a la función:\n",
    "mi_funcion(param2 = 2, param1 = \"hola\")"
   ]
  },
  {
   "cell_type": "code",
   "execution_count": 9,
   "metadata": {},
   "outputs": [
    {
     "name": "stdout",
     "output_type": "stream",
     "text": [
      "3\n",
      "3\n",
      "4\n"
     ]
    }
   ],
   "source": [
    "# Para definir funciones con un número variable de argumentos colocamos un último parámetro para la función cuyo nombre \n",
    "# debe precederse de un signo *:\n",
    "def varios(param1, param2, *otros):    \n",
    "    for val in otros:        \n",
    "        print (val)\n",
    "        \n",
    "varios(1, 2)\n",
    "varios(1, 2, 3)\n",
    "varios(1, 2, 3, 4)"
   ]
  },
  {
   "cell_type": "code",
   "execution_count": 10,
   "metadata": {},
   "outputs": [
    {
     "name": "stdout",
     "output_type": "stream",
     "text": [
      "('tercero', 3)\n"
     ]
    }
   ],
   "source": [
    "# En el siguiente ejemplo se utiliza la función items de los diccionarios, que devuelve una lista con sus elementos, \n",
    "# para imprimir los parámetros que contiene el diccionario.\n",
    "def varios(param1, param2, **otros):    \n",
    "    for i in otros.items():        \n",
    "        print (i)\n",
    "        \n",
    "varios(1, 2, tercero = 3)"
   ]
  },
  {
   "cell_type": "code",
   "execution_count": 1,
   "metadata": {},
   "outputs": [
    {
     "name": "stdout",
     "output_type": "stream",
     "text": [
      "25 [22, 23]\n",
      "22 [22, 23]\n"
     ]
    }
   ],
   "source": [
    "# Veamos un pequeño programa para demostrarlo. En este ejemplo se hace uso del método append de las listas. Un método no \n",
    "# es más que una función que pertenece a un objeto, en este caso a una lista; y append, en concreto, sirve para añadir \n",
    "# un elemento a una lista\n",
    "def f(x, y):    \n",
    "    x = x + 3    \n",
    "    y.append(23)    \n",
    "    print (x, y)\n",
    "    \n",
    "x = 22\n",
    "y = [22]\n",
    "f(x, y)\n",
    "print (x, y)"
   ]
  },
  {
   "cell_type": "code",
   "execution_count": 3,
   "metadata": {},
   "outputs": [
    {
     "name": "stdout",
     "output_type": "stream",
     "text": [
      "5\n"
     ]
    }
   ],
   "source": [
    "def sumar(x, y):    \n",
    "    return x + y\n",
    "\n",
    "print (sumar(3, 2))"
   ]
  },
  {
   "cell_type": "code",
   "execution_count": 5,
   "metadata": {},
   "outputs": [],
   "source": [
    "# En Python las clases se definen mediante la palabra clave class segui-da del nombre de la clase, dos puntos (:) y a \n",
    "# continuación, indentado, el cuerpo de la clase. Como en el caso de las funciones, si la primera línea del cuerpo se \n",
    "# trata de una cadena de texto, esta será la cadena de documentación de la clase o docstring.\n",
    "class Coche:    \n",
    "    \"\"\"Abstraccion de los objetos coche.\"\"\"    \n",
    "    def __init__(self, gasolina):        \n",
    "        self.gasolina = gasolina        \n",
    "        print (\"Tenemos\", gasolina, \"litros\")    \n",
    "    def arrancar(self):        \n",
    "        if self.gasolina > 0:            \n",
    "            print (\"Arranca\")        \n",
    "        else:            \n",
    "            print (\"No arranca\")   \n",
    "    def conducir(self):        \n",
    "        if self.gasolina > 0:           \n",
    "            self.gasolina -= 1            \n",
    "            print (\"Quedan\", self.gasolina, \"litros\")        \n",
    "        else:            \n",
    "            print (\"No se mueve\")"
   ]
  },
  {
   "cell_type": "code",
   "execution_count": 8,
   "metadata": {},
   "outputs": [
    {
     "name": "stdout",
     "output_type": "stream",
     "text": [
      "Tenemos 3 litros\n",
      "Arranca\n",
      "Quedan 2 litros\n",
      "Quedan 1 litros\n",
      "Quedan 0 litros\n",
      "No se mueve\n"
     ]
    }
   ],
   "source": [
    "mi_coche = Coche(3)\n",
    "mi_coche.arrancar()\n",
    "mi_coche.conducir()\n",
    "mi_coche.conducir()\n",
    "mi_coche.conducir()\n",
    "mi_coche.conducir()"
   ]
  },
  {
   "cell_type": "code",
   "execution_count": 13,
   "metadata": {},
   "outputs": [
    {
     "name": "stdout",
     "output_type": "stream",
     "text": [
      "The hexadecimal equivalent of hash is : 0cb1e152974f7932d8e2042317acf50b\n"
     ]
    }
   ],
   "source": [
    "# Python 3 code to demonstrate the  \n",
    "# working of MD5 (string - hexadecimal) \n",
    "  \n",
    "import hashlib \n",
    "  \n",
    "# initializing string \n",
    "str2hash = \"fb7f567e32ce7d...\"\n",
    "  \n",
    "# encoding GeeksforGeeks using encode() \n",
    "# then sending to md5() \n",
    "result = hashlib.md5(str2hash.encode()) \n",
    "  \n",
    "# printing the equivalent hexadecimal value. \n",
    "print(\"The hexadecimal equivalent of hash is : \", end =\"\") \n",
    "print(result.hexdigest()) \n"
   ]
  },
  {
   "cell_type": "markdown",
   "metadata": {},
   "source": [
    "# Orientación a Objetos\n",
    "\n",
    "# Hay tres conceptos que son básicos para cualquier lenguaje de programación orientado a objetos: el encapsulamiento, la herencia y el polimorfismo."
   ]
  },
  {
   "cell_type": "code",
   "execution_count": 21,
   "metadata": {},
   "outputs": [
    {
     "name": "stdout",
     "output_type": "stream",
     "text": [
      "Tenemos 3 litros\n",
      "Arranca\n",
      "Quedan 2 litros\n",
      "Quedan 1 litros\n",
      "Quedan 0 litros\n",
      "No se mueve\n"
     ]
    }
   ],
   "source": [
    "# En Python las clases se definen mediante la palabra clave class seguida\n",
    "# del nombre de la clase, dos puntos (:) y a continuación, indentado, el cuerpo de la clase. Como en el caso de las\n",
    "# funciones, si la primera línea del cuerpo se trata de una cadena de texto, esta será la cadena de documentación de \n",
    "# la clase o docstring.\n",
    "\n",
    "class Coche:\n",
    "  \"\"\"Abstraccion de los objetos coche.\"\"\"\n",
    "  def __init__(self, gasolina):\n",
    "    self.gasolina = gasolina\n",
    "    print (\"Tenemos \" + str(gasolina) + \" litros\")\n",
    "  def arrancar(self):\n",
    "    if self.gasolina > 0:\n",
    "      print (\"Arranca\")\n",
    "    else:\n",
    "      print (\"No arranca\")\n",
    "  def conducir(self):\n",
    "    if self.gasolina > 0:\n",
    "      self.gasolina -= 1\n",
    "      print (\"Quedan \" + str(self.gasolina) + \" litros\")\n",
    "    else:\n",
    "      print (\"No se mueve\")\n",
    "    \n",
    "mi_coche = Coche(3)\n",
    "mi_coche.arrancar()\n",
    "mi_coche.conducir()\n",
    "mi_coche.conducir()\n",
    "mi_coche.conducir()\n",
    "mi_coche.conducir()"
   ]
  },
  {
   "cell_type": "markdown",
   "metadata": {},
   "source": [
    "## Herencia"
   ]
  },
  {
   "cell_type": "code",
   "execution_count": null,
   "metadata": {},
   "outputs": [],
   "source": []
  }
 ],
 "metadata": {
  "kernelspec": {
   "display_name": "Python 3",
   "language": "python",
   "name": "python3"
  },
  "language_info": {
   "codemirror_mode": {
    "name": "ipython",
    "version": 3
   },
   "file_extension": ".py",
   "mimetype": "text/x-python",
   "name": "python",
   "nbconvert_exporter": "python",
   "pygments_lexer": "ipython3",
   "version": "3.8.3"
  }
 },
 "nbformat": 4,
 "nbformat_minor": 4
}
