{
 "cells": [
  {
   "cell_type": "markdown",
   "metadata": {},
   "source": [
    "# Orientación a Objetos\n",
    "\n",
    "# Hay tres conceptos que son básicos para cualquier lenguaje de programación orientado a objetos: el encapsulamiento, la herencia y el polimorfismo."
   ]
  },
  {
   "cell_type": "code",
   "execution_count": 21,
   "metadata": {},
   "outputs": [
    {
     "name": "stdout",
     "output_type": "stream",
     "text": [
      "Tenemos 3 litros\n",
      "Arranca\n",
      "Quedan 2 litros\n",
      "Quedan 1 litros\n",
      "Quedan 0 litros\n",
      "No se mueve\n"
     ]
    }
   ],
   "source": [
    "# En Python las clases se definen mediante la palabra clave class seguida\n",
    "# del nombre de la clase, dos puntos (:) y a continuación, indentado, el cuerpo de la clase. Como en el caso de las\n",
    "# funciones, si la primera línea del cuerpo se trata de una cadena de texto, esta será la cadena de documentación de \n",
    "# la clase o docstring.\n",
    "\n",
    "class Coche:\n",
    "  \"\"\"Abstraccion de los objetos coche.\"\"\"\n",
    "  def __init__(self, gasolina):\n",
    "    self.gasolina = gasolina\n",
    "    print (\"Tenemos \" + str(gasolina) + \" litros\")\n",
    "  def arrancar(self):\n",
    "    if self.gasolina > 0:\n",
    "      print (\"Arranca\")\n",
    "    else:\n",
    "      print (\"No arranca\")\n",
    "  def conducir(self):\n",
    "    if self.gasolina > 0:\n",
    "      self.gasolina -= 1\n",
    "      print (\"Quedan \" + str(self.gasolina) + \" litros\")\n",
    "    else:\n",
    "      print (\"No se mueve\")\n",
    "    \n",
    "mi_coche = Coche(3)\n",
    "mi_coche.arrancar()\n",
    "mi_coche.conducir()\n",
    "mi_coche.conducir()\n",
    "mi_coche.conducir()\n",
    "mi_coche.conducir()"
   ]
  },
  {
   "cell_type": "markdown",
   "metadata": {},
   "source": [
    "## Herencia"
   ]
  },
  {
   "cell_type": "code",
   "execution_count": null,
   "metadata": {},
   "outputs": [],
   "source": []
  }
 ],
 "metadata": {
  "kernelspec": {
   "display_name": "Python 3",
   "language": "python",
   "name": "python3"
  },
  "language_info": {
   "codemirror_mode": {
    "name": "ipython",
    "version": 3
   },
   "file_extension": ".py",
   "mimetype": "text/x-python",
   "name": "python",
   "nbconvert_exporter": "python",
   "pygments_lexer": "ipython3",
   "version": "3.8.3"
  }
 },
 "nbformat": 4,
 "nbformat_minor": 4
}
