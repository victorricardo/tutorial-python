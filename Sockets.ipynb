{
 "cells": [
  {
   "cell_type": "markdown",
   "metadata": {},
   "source": [
    "# Sockets"
   ]
  },
  {
   "cell_type": "markdown",
   "metadata": {},
   "source": [
    "La comunicación entre distintas entidades en una red se basa en Python en el clásico concepto de sockets. Los sockets son un concepto abstracto con el que se designa al punto final de una conexión.\n",
    "\n",
    "Los programas utilizan sockets para comunicarse con otros programas, que pueden estar situados en computadoras distintas.\n",
    "Un socket queda definido por la dirección IP de la máquina, el puerto en el que escucha, y el protocolo que utiliza.\n",
    "Los tipos y funciones necesarios para trabajar con sockets se encuentran en Python en el módulo socket, como no podría ser de otra forma.\n",
    "\n",
    "Los sockets se clasifican en sockets de flujo (socket.SOCK_STREAM) o sockets de datagramas (socket.SOCK_DGRAM) dependiendo de si el servicio utiliza TCP, que es orientado a conexión y fiable, o UDP, respectivamente.\n",
    "\n",
    "En este capítulo sólo cubriremos los sockets de flujo, que cubren un 90% de las necesidades comunes.\n",
    "\n",
    "Veremos durante el resto del capítulo cómo crear un par de programas cliente y servidor a modo de ejemplo.\n",
    "\n",
    "Lo primero que tenemos que hacer es crear un objeto socket para el servidor\n",
    "\n",
    "## Servidor en Python\n",
    "\n",
    "Aquí les dejo el código con comentarios para hacer mas fácil la comprensión."
   ]
  },
  {
   "cell_type": "code",
   "execution_count": null,
   "metadata": {},
   "outputs": [],
   "source": [
    "# Importamos las librerias necesarias\n",
    "import socket\n",
    "\n",
    "# Establecemos el tipo de socket/conexion\n",
    "sock = socket.socket(socket.AF_INET, socket.SOCK_STREAM)\n",
    "port = 5000 # Puerto de comunicacion\n",
    "sock.bind(('localhost',port)) # IP y Puerto de conexion en una Tupla\n",
    "\n",
    "print (\"esperando conexiones en el puerto \", port)\n",
    "# Vamos a esperar que un cliente se conecte\n",
    "# Mientras tanto el script se va a pausar\n",
    "sock.listen(1)\n",
    "# Cuando un cliente se conecte vamos a obtener la client_addr osea la direccion\n",
    "# tambien vamos a obtener la con, osea la conexion que servira para enviar datos y recibir datos\n",
    "con, client_addr =  sock.accept()\n",
    "text = \"Hola, soy el servidor!\" # El texto que enviaremos\n",
    "con.send(text.encode()) # Enviamos el texto al cliente que se conecta\n",
    "\n",
    "con.close() # Cerramos la conexion\n",
    "sock.close() # Cerramos el socket"
   ]
  },
  {
   "cell_type": "markdown",
   "metadata": {},
   "source": [
    "## Cliente en Python\n",
    "\n",
    "Ahora el código del cliente, también con comentarios."
   ]
  },
  {
   "cell_type": "code",
   "execution_count": null,
   "metadata": {},
   "outputs": [],
   "source": [
    "# Importamos las librerias necesarias\n",
    "import socket\n",
    "\n",
    "# Establecemos el tipo de socket/conexion\n",
    "sock = socket.socket(socket.AF_INET, socket.SOCK_STREAM)\n",
    "port = 5000 # Puerto de comunicacion\n",
    "# Realizamos la conexion al la IP y puerto\n",
    "sock.connect(('localhost',port))\n",
    "# Leemos los datos del servidor\n",
    "data = sock.recv(4096)\n",
    "# Cerramos el socket\n",
    "sock.close()\n",
    "# Mostramos los datos recibidos\n",
    "print(data.decode())"
   ]
  },
  {
   "cell_type": "code",
   "execution_count": null,
   "metadata": {},
   "outputs": [],
   "source": []
  }
 ],
 "metadata": {
  "kernelspec": {
   "display_name": "Python 3",
   "language": "python",
   "name": "python3"
  },
  "language_info": {
   "codemirror_mode": {
    "name": "ipython",
    "version": 3
   },
   "file_extension": ".py",
   "mimetype": "text/x-python",
   "name": "python",
   "nbconvert_exporter": "python",
   "pygments_lexer": "ipython3",
   "version": "3.8.3"
  }
 },
 "nbformat": 4,
 "nbformat_minor": 4
}
