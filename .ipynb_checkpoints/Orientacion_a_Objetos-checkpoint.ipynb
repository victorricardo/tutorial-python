{
 "cells": [
  {
   "cell_type": "markdown",
   "metadata": {},
   "source": [
    "# Orientación a Objetos\n",
    "\n",
    "# Hay tres conceptos que son básicos para cualquier lenguaje de programación orientado a objetos: el encapsulamiento, la herencia y el polimorfismo."
   ]
  },
  {
   "cell_type": "code",
   "execution_count": 21,
   "metadata": {},
   "outputs": [
    {
     "name": "stdout",
     "output_type": "stream",
     "text": [
      "Tenemos 3 litros\n",
      "Arranca\n",
      "Quedan 2 litros\n",
      "Quedan 1 litros\n",
      "Quedan 0 litros\n",
      "No se mueve\n"
     ]
    }
   ],
   "source": [
    "# En Python las clases se definen mediante la palabra clave class seguida\n",
    "# del nombre de la clase, dos puntos (:) y a continuación, indentado, el cuerpo de la clase. Como en el caso de las\n",
    "# funciones, si la primera línea del cuerpo se trata de una cadena de texto, esta será la cadena de documentación de \n",
    "# la clase o docstring.\n",
    "\n",
    "class Coche:\n",
    "  \"\"\"Abstraccion de los objetos coche.\"\"\"\n",
    "  def __init__(self, gasolina):\n",
    "    self.gasolina = gasolina\n",
    "    print (\"Tenemos \" + str(gasolina) + \" litros\")\n",
    "  def arrancar(self):\n",
    "    if self.gasolina > 0:\n",
    "      print (\"Arranca\")\n",
    "    else:\n",
    "      print (\"No arranca\")\n",
    "  def conducir(self):\n",
    "    if self.gasolina > 0:\n",
    "      self.gasolina -= 1\n",
    "      print (\"Quedan \" + str(self.gasolina) + \" litros\")\n",
    "    else:\n",
    "      print (\"No se mueve\")\n",
    "    \n",
    "mi_coche = Coche(3)\n",
    "mi_coche.arrancar()\n",
    "mi_coche.conducir()\n",
    "mi_coche.conducir()\n",
    "mi_coche.conducir()\n",
    "mi_coche.conducir()"
   ]
  },
  {
   "cell_type": "markdown",
   "metadata": {},
   "source": [
    "## Herencia"
   ]
  },
  {
   "cell_type": "code",
   "execution_count": 4,
   "metadata": {},
   "outputs": [
    {
     "name": "stdout",
     "output_type": "stream",
     "text": [
      "Enter side 1 : 3\n",
      "Enter side 2 : 4\n",
      "Enter side 3 : 5\n",
      "Side 1 is 3.0\n",
      "Side 2 is 4.0\n",
      "Side 3 is 5.0\n",
      "El area del triangulo es 6.00\n"
     ]
    }
   ],
   "source": [
    "# En un lenguaje orientado a objetos cuando hacemos que una clase (subclase) herede de otra clase (superclase) \n",
    "# estamos haciendo que la subclase contenga todos los atributos y métodos que tenía la superclase.\n",
    "# No obstante al acto de heredar de una clase también se le llama a menudo “extender una clase”.\n",
    "\n",
    "# Tomado de https://www.codigofuente.org/herencia-en-python/\n",
    "# Un polígono es una figura cerrada con 3 o más lados. Digamos que tenemos una clase llamada Polígono definida \n",
    "# de la siguiente manera.\n",
    "\n",
    "class Polygon:\n",
    "    def __init__(self, no_of_sides):\n",
    "        self.n = no_of_sides\n",
    "        self.sides = [0 for i in range(no_of_sides)]\n",
    "\n",
    "    def inputSides(self):\n",
    "        self.sides = [float(input(\"Enter side \"+str(i+1)+\" : \")) for i in range(self.n)]\n",
    "\n",
    "    def dispSides(self):\n",
    "        for i in range(self.n):\n",
    "            print(\"Side\",i+1,\"is\",self.sides[i])\n",
    "            \n",
    "# Esta clase tiene atributos de datos para almacenar el número de lados, y la magnitud n de cada lado como una lista, \n",
    "# lados.\n",
    "\n",
    "# El método inputSides() toma la magnitud de cada lado y, de manera similar, dispSides() los mostrará correctamente.\n",
    "\n",
    "# Un triángulo es un polígono con 3 lados. Entonces, podemos crear una clase llamada Triángulo que se hereda de Polígono. \n",
    "# Esto hace que todos los atributos disponibles en la clase Polígono estén disponibles en Triángulo. No necesitamos \n",
    "# definirlos de nuevo(reutilización del código). Triángulo se define de la siguiente manera.\n",
    "\n",
    "class Triangle(Polygon):\n",
    "    def __init__(self):\n",
    "        Polygon.__init__(self,3)\n",
    "\n",
    "    def findArea(self):\n",
    "        a, b, c = self.sides\n",
    "        # calculate the semi-perimeter\n",
    "        s =(a + b + c) / 2\n",
    "        area =(s*(s-a)*(s-b)*(s-c)) ** 0.5\n",
    "        print('El area del triangulo es %0.2f' %area)\n",
    "\n",
    "t = Triangle()\n",
    "t.inputSides()\n",
    "t.dispSides()\n",
    "t.findArea()\n"
   ]
  },
  {
   "cell_type": "markdown",
   "metadata": {},
   "source": [
    "# Herencia Múltiple"
   ]
  },
  {
   "cell_type": "markdown",
   "metadata": {},
   "source": [
    "Al igual que C ++, una clase puede derivarse de más de una clase base en Python. Esto se llama herencia múltiple.\n",
    "\n",
    "En la herencia múltiple, las características de todas las clases base se heredan en la clase derivada. La sintaxis para la herencia múltiple es similar a la herencia simple.\n",
    "\n",
    "En el siguiente ejemplo, como Terrestre se encuentra más a la izquierda, sería la definición de desplazar de esta clase la que prevalecería, y por lo tanto si llamamos al método desplazar de un objeto de tipo Cocodrilo lo que se imprimiría sería “El animal anda”."
   ]
  },
  {
   "cell_type": "code",
   "execution_count": 7,
   "metadata": {},
   "outputs": [
    {
     "name": "stdout",
     "output_type": "stream",
     "text": [
      "El animal anda\n"
     ]
    }
   ],
   "source": [
    "class Terrestre:\n",
    "  def desplazar(self):\n",
    "    print ('El animal anda')\n",
    "\n",
    "class Acuatico:\n",
    "  def desplazar(self):\n",
    "    print ('El animal nada')\n",
    "\n",
    "class Cocodrilo(Terrestre, Acuatico):\n",
    "  pass\n",
    "\n",
    "c = Cocodrilo()\n",
    "c.desplazar()"
   ]
  },
  {
   "cell_type": "markdown",
   "metadata": {},
   "source": [
    "# Encapsulación"
   ]
  },
  {
   "cell_type": "markdown",
   "metadata": {},
   "source": [
    "La encapsulación se refiere a impedir el acceso a determinados métodos y atributos de los objetos estableciendo así qué puede utilizarse desde fuera de la clase.\n",
    "\n",
    "Esto se consigue en otros lenguajes de programación como Java utilizando modificadores de acceso que definen si cualquiera puede acceder a esa función o variable (public) o si está restringido el acceso a la propia clase (private)."
   ]
  },
  {
   "cell_type": "code",
   "execution_count": 10,
   "metadata": {},
   "outputs": [
    {
     "name": "stdout",
     "output_type": "stream",
     "text": [
      "1\n",
      "Hola mundo!\n"
     ]
    }
   ],
   "source": [
    "class MiClase:\n",
    "    \n",
    "    def __init__(self):\n",
    "        self._atributo_privado = 1\n",
    "    \n",
    "    def _metodo_privado(self):\n",
    "        print(\"Hola mundo!\")\n",
    "\n",
    "\n",
    "mi_objeto = MiClase()\n",
    "print(mi_objeto._atributo_privado)\n",
    "mi_objeto._metodo_privado()\n"
   ]
  },
  {
   "cell_type": "code",
   "execution_count": 11,
   "metadata": {},
   "outputs": [],
   "source": [
    "# Métodos especiales"
   ]
  },
  {
   "cell_type": "markdown",
   "metadata": {},
   "source": [
    "En Python, los métodos especiales son un conjunto de métodos predefinidos que puede usar para enriquecer sus clases. Son fáciles de reconocer porque comienzan y terminan con guiones bajos dobles, por ejemplo __init__o __str__. Estos métodos también son con conocidos como “dunders”, una abreviación de double underline.\n",
    "\n",
    "## Inicialización: método __init__\n",
    "\n",
    "Necesito inicializar mi clase con el método __init__ para establecer los valores de la instancia.\n",
    "\n",
    "## Representación del objeto: __str__,__repr__\n",
    "\n",
    "Es una práctica recomendada crear una representación de los objetos en texto. Hay 2 formas de hacer esto con métodos especiales:\n",
    "\n",
    "- __str__: Es una representación orientada al usuario final, es la manera “informal” de representarlo\n",
    "- __repr__: Es una representación “formal” de cómo se genera el objeto.\n",
    "\n",
    "## Funcionalidad de iteración: __len__, __getitem__, __reversed__\n",
    "\n",
    "Para añadir una funcionalidad de iteraciones necesito añadir primero algunos productos al objeto, crearé un método en la clase para hacerlo. Será una función simple que verifique si aún hay espacios en el almacén para poder añadirlo.\n",
    "\n",
    "## Sobrecarga de operadores: __add__\n",
    "\n",
    "¿Alguna vez quisiste usar el operador + con algunas de tus clases? Bueno, en Python todo es un objeto, por lo que entra en juego el famoso poliformismo.\n",
    "\n",
    "Cuando usamos el operador + se comporta muy distinto si lo usamos con un número, un string o una lista. En este momento nuestra clase Almacen no soporta el uso de este operador…\n",
    "\n",
    "## Operadores de comparación: __eq__\n",
    "\n",
    "También podemos usar los operadores como >, >=, <=, < o ==. Con la ayuda del método __eq__ podemos hacer comparaciones lógicas con ==. "
   ]
  },
  {
   "cell_type": "code",
   "execution_count": null,
   "metadata": {},
   "outputs": [],
   "source": []
  }
 ],
 "metadata": {
  "kernelspec": {
   "display_name": "Python 3",
   "language": "python",
   "name": "python3"
  },
  "language_info": {
   "codemirror_mode": {
    "name": "ipython",
    "version": 3
   },
   "file_extension": ".py",
   "mimetype": "text/x-python",
   "name": "python",
   "nbconvert_exporter": "python",
   "pygments_lexer": "ipython3",
   "version": "3.8.3"
  }
 },
 "nbformat": 4,
 "nbformat_minor": 4
}
