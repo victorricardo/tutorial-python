{
 "cells": [
  {
   "cell_type": "markdown",
   "metadata": {},
   "source": [
    "# Programación funcional"
   ]
  },
  {
   "cell_type": "markdown",
   "metadata": {},
   "source": [
    "La programación funcional es un paradigma en el que la programaciónse basa casi en su totalidad en funciones, entendiendo el concepto de función según su definición matemática, y no como los simples subprogramas de los lenguajes imperativos que hemos visto hasta ahora.\n",
    "\n",
    "En los lenguajes funcionales puros un programa consiste exclusivamente en la aplicación de distintas funciones a un valor de entrada para obtener un valor de salida.\n",
    "\n",
    "Python, sin ser un lenguaje puramente funcional incluye varias características\n",
    "tomadas de los lenguajes funcionales como son las funciones de orden superior o las funciones lambda (funciones anónimas)."
   ]
  },
  {
   "cell_type": "markdown",
   "metadata": {},
   "source": [
    "## Funciones de orden superior"
   ]
  },
  {
   "cell_type": "code",
   "execution_count": 2,
   "metadata": {
    "scrolled": true
   },
   "outputs": [
    {
     "name": "stdout",
     "output_type": "stream",
     "text": [
      "Hola\n",
      "Hi\n",
      "Salut\n"
     ]
    }
   ],
   "source": [
    "# El concepto de funciones de orden superior se refiere al uso de funciones como si de un valor cualquiera se \n",
    "# tratara, posibilitando el pasar funciones como parámetros de otras funciones o devolver funciones como valor de retorno.\n",
    "# Esto es posible porque, como hemos insistido ya en varias ocasiones, en Python todo son objetos. Y las funciones \n",
    "# no son una excepción.\n",
    "\n",
    "# Veamos un pequeño ejemplo\n",
    "\n",
    "def saludar(lang):\n",
    "  def saludar_es():\n",
    "    print ('Hola')\n",
    "    \n",
    "  def saludar_en():\n",
    "    print ('Hi')\n",
    "    \n",
    "  def saludar_fr():\n",
    "    print ('Salut')\n",
    "    \n",
    "  lang_func = {'es': saludar_es,\n",
    "               'en': saludar_en,\n",
    "               'fr': saludar_fr}\n",
    "  return lang_func[lang]\n",
    "\n",
    "f = saludar('es')\n",
    "f()\n",
    "saludar('en')()\n",
    "saludar('fr')()"
   ]
  },
  {
   "cell_type": "markdown",
   "metadata": {},
   "source": [
    "## Iteraciones de orden superior sobre listas\n",
    "\n",
    "Una de las cosas más interesantes que podemos hacer con nuestras funciones de orden superior es pasarlas como argumentos de las funciones map, filter y reduce. Estas funciones nos permiten sustituir los bucles típicos de los lenguajes imperativos mediante construcciones equivalentes."
   ]
  },
  {
   "cell_type": "markdown",
   "metadata": {},
   "source": [
    "## map(function, sequence[, sequence, ...])\n",
    "\n",
    "La función map aplica una función a cada elemento de una secuencia y devuelve una lista con el resultado de aplicar la función a cada elemento.\n",
    "\n",
    "Si se pasan como parámetros n secuencias, la función tendrá que aceptar n argumentos. Si alguna de las secuencias es más pequeña que las demás, el valor que le llega a la función function para posiciones mayores que el tamaño de dicha secuencia será None.\n",
    "\n",
    "A continuación podemos ver un ejemplo en el que se utiliza map para elevar al cuadrado todos los elementos de una lista:"
   ]
  },
  {
   "cell_type": "code",
   "execution_count": 4,
   "metadata": {},
   "outputs": [
    {
     "name": "stdout",
     "output_type": "stream",
     "text": [
      "[1, 4, 9]\n"
     ]
    }
   ],
   "source": [
    "def cuadrado(n):\n",
    "  return n ** 2\n",
    "\n",
    "l = [1, 2, 3]\n",
    "l2 = map(cuadrado, l)\n",
    "print(list(l2))"
   ]
  },
  {
   "cell_type": "markdown",
   "metadata": {},
   "source": [
    "## filter(function, sequence)\n",
    "\n",
    "La funcion filter verifica que los elementos de una secuencia cumplan una determinada condición, devolviendo una secuencia con los elementos que cumplen esa condición. Es decir, para cada elemento de sequence se aplica la función; si el resultado es True se añade a la lista y en caso contrario se descarta.\n",
    "\n",
    "A continuación podemos ver un ejemplo en el que se utiliza filter para conservar solo los números que son pares."
   ]
  },
  {
   "cell_type": "code",
   "execution_count": 6,
   "metadata": {},
   "outputs": [
    {
     "name": "stdout",
     "output_type": "stream",
     "text": [
      "[2, 4, 6, 8, 10]\n"
     ]
    }
   ],
   "source": [
    "def es_par(n):\n",
    "  return (n % 2.0 == 0)\n",
    "\n",
    "l = [1, 2, 3, 4, 5, 6, 7, 8, 9, 10]\n",
    "l2 = filter(es_par, l)\n",
    "print(list(l2))"
   ]
  },
  {
   "cell_type": "markdown",
   "metadata": {},
   "source": [
    "## reduce(function, sequence[, initial])\n",
    "\n",
    "La función reduce aplica una función a pares de elementos de una secuencia hasta dejarla en un solo valor.\n",
    "\n",
    "A continuación podemos ver un ejemplo en el que se utiliza reduce para sumar todos los elementos de una lista."
   ]
  },
  {
   "cell_type": "code",
   "execution_count": 8,
   "metadata": {},
   "outputs": [
    {
     "ename": "TypeError",
     "evalue": "'int' object is not iterable",
     "output_type": "error",
     "traceback": [
      "\u001b[1;31m---------------------------------------------------------------------------\u001b[0m",
      "\u001b[1;31mTypeError\u001b[0m                                 Traceback (most recent call last)",
      "\u001b[1;32m<ipython-input-8-1d4cf31ea9cc>\u001b[0m in \u001b[0;36m<module>\u001b[1;34m\u001b[0m\n\u001b[0;32m      7\u001b[0m \u001b[0ml\u001b[0m \u001b[1;33m=\u001b[0m \u001b[1;33m[\u001b[0m\u001b[1;36m1\u001b[0m\u001b[1;33m,\u001b[0m \u001b[1;36m2\u001b[0m\u001b[1;33m,\u001b[0m \u001b[1;36m3\u001b[0m\u001b[1;33m]\u001b[0m\u001b[1;33m\u001b[0m\u001b[1;33m\u001b[0m\u001b[0m\n\u001b[0;32m      8\u001b[0m \u001b[0ml2\u001b[0m \u001b[1;33m=\u001b[0m \u001b[0mreduce\u001b[0m\u001b[1;33m(\u001b[0m\u001b[0msumar\u001b[0m\u001b[1;33m,\u001b[0m \u001b[0ml\u001b[0m\u001b[1;33m)\u001b[0m\u001b[1;33m\u001b[0m\u001b[1;33m\u001b[0m\u001b[0m\n\u001b[1;32m----> 9\u001b[1;33m \u001b[0mprint\u001b[0m\u001b[1;33m(\u001b[0m\u001b[0mlist\u001b[0m\u001b[1;33m(\u001b[0m\u001b[0ml2\u001b[0m\u001b[1;33m)\u001b[0m\u001b[1;33m)\u001b[0m\u001b[1;33m\u001b[0m\u001b[1;33m\u001b[0m\u001b[0m\n\u001b[0m",
      "\u001b[1;31mTypeError\u001b[0m: 'int' object is not iterable"
     ]
    }
   ],
   "source": [
    "# Is reduce really removed in Python 3.2, It was moved to functools.\n",
    "from functools import reduce\n",
    "\n",
    "def sumar(x, y):\n",
    "  return x + y\n",
    "\n",
    "l = [1, 2, 3]\n",
    "l2 = reduce(sumar, l)\n",
    "print(l2)"
   ]
  },
  {
   "cell_type": "code",
   "execution_count": null,
   "metadata": {},
   "outputs": [],
   "source": []
  }
 ],
 "metadata": {
  "kernelspec": {
   "display_name": "Python 3",
   "language": "python",
   "name": "python3"
  },
  "language_info": {
   "codemirror_mode": {
    "name": "ipython",
    "version": 3
   },
   "file_extension": ".py",
   "mimetype": "text/x-python",
   "name": "python",
   "nbconvert_exporter": "python",
   "pygments_lexer": "ipython3",
   "version": "3.8.3"
  }
 },
 "nbformat": 4,
 "nbformat_minor": 4
}
