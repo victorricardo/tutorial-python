{
 "cells": [
  {
   "cell_type": "markdown",
   "metadata": {},
   "source": [
    "# Colecciones - Listas"
   ]
  },
  {
   "cell_type": "code",
   "execution_count": 1,
   "metadata": {},
   "outputs": [
    {
     "name": "stdout",
     "output_type": "stream",
     "text": [
      "22\n",
      "[1, 2]\n"
     ]
    }
   ],
   "source": [
    "l = [22, True, \"una lista\", [1, 2]]\n",
    "mi_var = l[0] # mi_var vale 22\n",
    "mi_var1 = l[3] # mi_var1 vale [1, 2]\n",
    "print (mi_var)\n",
    "print (mi_var1)"
   ]
  },
  {
   "cell_type": "code",
   "execution_count": 50,
   "metadata": {},
   "outputs": [
    {
     "name": "stdout",
     "output_type": "stream",
     "text": [
      "1\n"
     ]
    }
   ],
   "source": [
    "# Si queremos acceder a un elemento de una lista incluida dentro de otra lista tendremos que \n",
    "# utilizar dos veces este operador\n",
    "l = [\"una lista\", [1, 2]]\n",
    "mi_var = l[1][0] # mi_var vale 1\n",
    "print (mi_var)"
   ]
  },
  {
   "cell_type": "code",
   "execution_count": 51,
   "metadata": {},
   "outputs": [
    {
     "name": "stdout",
     "output_type": "stream",
     "text": [
      "[99, True]\n"
     ]
    }
   ],
   "source": [
    "# También podemos utilizar este operador para modificar un elemento de la lista si lo colocamos en la parte izquierda \n",
    "# de una asignación\n",
    "l = [22, True]\n",
    "l[0] = 99 # Con esto l valdrá [99, True]\n",
    "print (l)"
   ]
  },
  {
   "cell_type": "code",
   "execution_count": 52,
   "metadata": {},
   "outputs": [
    {
     "name": "stdout",
     "output_type": "stream",
     "text": [
      "último\n",
      "penúltimo\n",
      "antepenúltimo\n"
     ]
    }
   ],
   "source": [
    "# Una curiosidad sobre el operador [] de Python es que podemos utilizar también números negativos. Si se utiliza un número \n",
    "# negativo como índice, esto se traduce en que el índice empieza a contar desde el final, hacia la izquierda; es decir, \n",
    "# con [-1] accederíamos al último elemento de la lista, con [-2] al penúltimo, con [-3], al antepenúltimo, y así \n",
    "# sucesivamente.\n",
    "l = [22, True, \"una lista\", [1, 2], \"antepenúltimo\", \"penúltimo\",  \"último\"]\n",
    "print (l[-1]) # último\n",
    "print (l[-2]) # penúltimo\n",
    "print (l[-3]) # antepenúltimo"
   ]
  },
  {
   "cell_type": "code",
   "execution_count": 53,
   "metadata": {},
   "outputs": [
    {
     "name": "stdout",
     "output_type": "stream",
     "text": [
      "[99, True]\n",
      "[99, 'una lista']\n"
     ]
    }
   ],
   "source": [
    "# Otra cosa inusual es lo que en Python se conoce como slicing o particionado, y que consiste en ampliar este mecanismo \n",
    "# para permitir seleccionar porciones de la lista. Si en lugar de un número escribimos dos números inicio y fin separados \n",
    "# por dos puntos (inicio:fin) Python interpretará que queremos una lista que vaya desde la posición inicio a la posición \n",
    "# fin, sin incluir este último. Si escribimos tres números (inicio:fin:salto) en lugar de dos, el tercero se utiliza para \n",
    "# determinar cada cuantas posiciones añadir un elemento a la lista.\n",
    "l = [99, True, \"una lista\", [1, 2]]\n",
    "mi_var = l[0:2] # mi_var vale [99, True]\n",
    "print (mi_var)\n",
    "mi_var = l[0:4:2] # mi_var vale [99, \"una lista\"]\n",
    "print (mi_var)"
   ]
  },
  {
   "cell_type": "code",
   "execution_count": 54,
   "metadata": {},
   "outputs": [
    {
     "name": "stdout",
     "output_type": "stream",
     "text": [
      "[True, 'una lista']\n",
      "[99, True]\n",
      "[99, True, 'una lista']\n",
      "[99, 'una lista']\n"
     ]
    }
   ],
   "source": [
    "# Hay que mencionar así mismo que no es necesario indicar el principio y el final del slicing, sino que, si estos se \n",
    "# omiten, se usarán por defecto las posiciones de inicio y fin de la lista, respectivamente:\n",
    "l = [99, True, \"una lista\"]\n",
    "mi_var = l[1:] # mi_var vale [True, \"una lista\"]\n",
    "print (mi_var)\n",
    "mi_var = l[:2] # mi_var vale [99, True]\n",
    "print (mi_var)\n",
    "mi_var = l[:] # mi_var vale [99, True, \"una lista\"]\n",
    "print (mi_var)\n",
    "mi_var = l[::2] # mi_var vale [99, \"una lista\"]\n",
    "print (mi_var)"
   ]
  },
  {
   "cell_type": "code",
   "execution_count": 55,
   "metadata": {},
   "outputs": [
    {
     "name": "stdout",
     "output_type": "stream",
     "text": [
      "[0, 1, 'una lista', [1, 2]]\n"
     ]
    }
   ],
   "source": [
    "# También podemos utilizar este mecanismo para modificar la lista:\n",
    "l = [99, True, \"una lista\", [1, 2]]\n",
    "l[0:2] = [0, 1] # l vale [0, 1, \"una lista\", [1, 2]]\n",
    "print (l)"
   ]
  },
  {
   "cell_type": "markdown",
   "metadata": {},
   "source": [
    "# Colecciones - Tuplas"
   ]
  },
  {
   "cell_type": "code",
   "execution_count": 57,
   "metadata": {},
   "outputs": [
    {
     "name": "stdout",
     "output_type": "stream",
     "text": [
      "(1, 2, True, 'python')\n"
     ]
    }
   ],
   "source": [
    "# Todo lo que hemos explicado sobre las listas se aplica también a las tuplas, a excepción de la forma de definirla, \n",
    "# para lo que se utilizan paréntesis en lugar de corchetes.\n",
    "t = (1, 2, True, \"python\")\n",
    "print (t)"
   ]
  },
  {
   "cell_type": "markdown",
   "metadata": {},
   "source": [
    "# Colecciones - Diccionarios"
   ]
  },
  {
   "cell_type": "code",
   "execution_count": 59,
   "metadata": {},
   "outputs": [
    {
     "name": "stdout",
     "output_type": "stream",
     "text": [
      "Richard Curtis\n",
      "Quentin Tarantino\n"
     ]
    }
   ],
   "source": [
    "# Los diccionarios, también llamados matrices asociativas, deben su nombre a que son colecciones que relacionan una clave y\n",
    "# un valor. Por ejemplo, veamos un diccionario de películas y directores:\n",
    "d = {\"Love Actually\": \"Richard Curtis\", \"Kill Bill\": \"Tarantino\", \"Amélie\": \"Jean-Pierre Jeunet\"}\n",
    "\n",
    "# La diferencia principal entre los diccionarios y las listas o las tuplas es que a los valores almacenados en un \n",
    "# diccionario se les accede no por su índice, porque de hecho no tienen orden, sino por su clave, utilizando de nuevo \n",
    "# el operador [].\n",
    "mi_var = d[\"Love Actually\"] # devuelve \"Richard Curtis\"\n",
    "print (mi_var)\n",
    "\n",
    "# Al igual que en listas y tuplas también se puede utilizar este operador para reasignar valores.\n",
    "d[\"Kill Bill\"] = \"Quentin Tarantino\"\n",
    "mi_var = d[\"Kill Bill\"] # devuelve \"Quentin Tarantino\"\n",
    "print (mi_var)"
   ]
  }
 ],
 "metadata": {
  "kernelspec": {
   "display_name": "Python 3",
   "language": "python",
   "name": "python3"
  },
  "language_info": {
   "codemirror_mode": {
    "name": "ipython",
    "version": 3
   },
   "file_extension": ".py",
   "mimetype": "text/x-python",
   "name": "python",
   "nbconvert_exporter": "python",
   "pygments_lexer": "ipython3",
   "version": "3.8.3"
  }
 },
 "nbformat": 4,
 "nbformat_minor": 4
}
