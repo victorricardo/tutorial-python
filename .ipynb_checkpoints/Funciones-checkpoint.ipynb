{
 "cells": [
  {
   "cell_type": "markdown",
   "metadata": {},
   "source": [
    "# Funciones "
   ]
  },
  {
   "cell_type": "code",
   "execution_count": 6,
   "metadata": {},
   "outputs": [
    {
     "name": "stdout",
     "output_type": "stream",
     "text": [
      "hola\n",
      "2\n"
     ]
    }
   ],
   "source": [
    "# Una función es un fragmento de código con un nombre asociado que realiza una serie de tareas y devuelve un valor. \n",
    "# A los fragmentos de código que tienen un nombre asociado y no devuelven valores se les suele llamar procedimientos.\n",
    "def mi_funcion(param1, param2):\n",
    "    \"\"\"Esta funcion imprime los dos valores pasados    \n",
    "       como parametros\"\"\"    \n",
    "    print (param1)    \n",
    "    print (param2)\n",
    "    \n",
    "mi_funcion(\"hola\", 2)"
   ]
  },
  {
   "cell_type": "code",
   "execution_count": 7,
   "metadata": {},
   "outputs": [
    {
     "name": "stdout",
     "output_type": "stream",
     "text": [
      "hola\n",
      "2\n"
     ]
    }
   ],
   "source": [
    "# Sin embargo también es posible modificar el orden de los parámetros si indicamos el nombre del parámetro al que asociar \n",
    "# el valor a la hora de llamar a la función:\n",
    "mi_funcion(param2 = 2, param1 = \"hola\")"
   ]
  },
  {
   "cell_type": "code",
   "execution_count": 9,
   "metadata": {},
   "outputs": [
    {
     "name": "stdout",
     "output_type": "stream",
     "text": [
      "3\n",
      "3\n",
      "4\n"
     ]
    }
   ],
   "source": [
    "# Para definir funciones con un número variable de argumentos colocamos un último parámetro para la función cuyo nombre \n",
    "# debe precederse de un signo *:\n",
    "def varios(param1, param2, *otros):    \n",
    "    for val in otros:        \n",
    "        print (val)\n",
    "        \n",
    "varios(1, 2)\n",
    "varios(1, 2, 3)\n",
    "varios(1, 2, 3, 4)"
   ]
  },
  {
   "cell_type": "code",
   "execution_count": 10,
   "metadata": {},
   "outputs": [
    {
     "name": "stdout",
     "output_type": "stream",
     "text": [
      "('tercero', 3)\n"
     ]
    }
   ],
   "source": [
    "# En el siguiente ejemplo se utiliza la función items de los diccionarios, que devuelve una lista con sus elementos, \n",
    "# para imprimir los parámetros que contiene el diccionario.\n",
    "def varios(param1, param2, **otros):    \n",
    "    for i in otros.items():        \n",
    "        print (i)\n",
    "        \n",
    "varios(1, 2, tercero = 3)"
   ]
  },
  {
   "cell_type": "code",
   "execution_count": 1,
   "metadata": {},
   "outputs": [
    {
     "name": "stdout",
     "output_type": "stream",
     "text": [
      "25 [22, 23]\n",
      "22 [22, 23]\n"
     ]
    }
   ],
   "source": [
    "# Veamos un pequeño programa para demostrarlo. En este ejemplo se hace uso del método append de las listas. Un método no \n",
    "# es más que una función que pertenece a un objeto, en este caso a una lista; y append, en concreto, sirve para añadir \n",
    "# un elemento a una lista\n",
    "def f(x, y):    \n",
    "    x = x + 3    \n",
    "    y.append(23)    \n",
    "    print (x, y)\n",
    "    \n",
    "x = 22\n",
    "y = [22]\n",
    "f(x, y)\n",
    "print (x, y)"
   ]
  },
  {
   "cell_type": "code",
   "execution_count": 3,
   "metadata": {},
   "outputs": [
    {
     "name": "stdout",
     "output_type": "stream",
     "text": [
      "5\n"
     ]
    }
   ],
   "source": [
    "def sumar(x, y):    \n",
    "    return x + y\n",
    "\n",
    "print (sumar(3, 2))"
   ]
  },
  {
   "cell_type": "code",
   "execution_count": 5,
   "metadata": {},
   "outputs": [],
   "source": [
    "# En Python las clases se definen mediante la palabra clave class segui-da del nombre de la clase, dos puntos (:) y a \n",
    "# continuación, indentado, el cuerpo de la clase. Como en el caso de las funciones, si la primera línea del cuerpo se \n",
    "# trata de una cadena de texto, esta será la cadena de documentación de la clase o docstring.\n",
    "class Coche:    \n",
    "    \"\"\"Abstraccion de los objetos coche.\"\"\"    \n",
    "    def __init__(self, gasolina):        \n",
    "        self.gasolina = gasolina        \n",
    "        print (\"Tenemos\", gasolina, \"litros\")    \n",
    "    def arrancar(self):        \n",
    "        if self.gasolina > 0:            \n",
    "            print (\"Arranca\")        \n",
    "        else:            \n",
    "            print (\"No arranca\")   \n",
    "    def conducir(self):        \n",
    "        if self.gasolina > 0:           \n",
    "            self.gasolina -= 1            \n",
    "            print (\"Quedan\", self.gasolina, \"litros\")        \n",
    "        else:            \n",
    "            print (\"No se mueve\")"
   ]
  },
  {
   "cell_type": "code",
   "execution_count": 8,
   "metadata": {},
   "outputs": [
    {
     "name": "stdout",
     "output_type": "stream",
     "text": [
      "Tenemos 3 litros\n",
      "Arranca\n",
      "Quedan 2 litros\n",
      "Quedan 1 litros\n",
      "Quedan 0 litros\n",
      "No se mueve\n"
     ]
    }
   ],
   "source": [
    "mi_coche = Coche(3)\n",
    "mi_coche.arrancar()\n",
    "mi_coche.conducir()\n",
    "mi_coche.conducir()\n",
    "mi_coche.conducir()\n",
    "mi_coche.conducir()"
   ]
  },
  {
   "cell_type": "code",
   "execution_count": 13,
   "metadata": {},
   "outputs": [
    {
     "name": "stdout",
     "output_type": "stream",
     "text": [
      "The hexadecimal equivalent of hash is : 0cb1e152974f7932d8e2042317acf50b\n"
     ]
    }
   ],
   "source": [
    "# Python 3 code to demonstrate the  \n",
    "# working of MD5 (string - hexadecimal) \n",
    "  \n",
    "import hashlib \n",
    "  \n",
    "# initializing string \n",
    "str2hash = \"fb7f567e32ce7d...\"\n",
    "  \n",
    "# encoding GeeksforGeeks using encode() \n",
    "# then sending to md5() \n",
    "result = hashlib.md5(str2hash.encode()) \n",
    "  \n",
    "# printing the equivalent hexadecimal value. \n",
    "print(\"The hexadecimal equivalent of hash is : \", end =\"\") \n",
    "print(result.hexdigest()) \n"
   ]
  }
 ],
 "metadata": {
  "kernelspec": {
   "display_name": "Python 3",
   "language": "python",
   "name": "python3"
  },
  "language_info": {
   "codemirror_mode": {
    "name": "ipython",
    "version": 3
   },
   "file_extension": ".py",
   "mimetype": "text/x-python",
   "name": "python",
   "nbconvert_exporter": "python",
   "pygments_lexer": "ipython3",
   "version": "3.8.3"
  }
 },
 "nbformat": 4,
 "nbformat_minor": 4
}
