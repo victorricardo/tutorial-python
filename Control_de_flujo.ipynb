{
 "cells": [
  {
   "cell_type": "markdown",
   "metadata": {},
   "source": [
    "# Control de flujo - Sentencias condicionales"
   ]
  },
  {
   "cell_type": "code",
   "execution_count": 61,
   "metadata": {},
   "outputs": [
    {
     "name": "stdout",
     "output_type": "stream",
     "text": [
      "Tienes buen gusto!\n",
      "Gracias\n"
     ]
    }
   ],
   "source": [
    "# if es La forma más simple de un estamento condicional es un if (del inglés si) seguido de la condición a evaluar, \n",
    "# dos puntos (:) y en la siguiente línea e indentado, el código a ejecutar en caso de que se cumpla dicha condición.\n",
    "fav = \"mundogeek.net\"\n",
    "# si (if) fav es igual a “mundogeek.net”\n",
    "if fav == \"mundogeek.net\":\n",
    "    print (\"Tienes buen gusto!\")\n",
    "    print (\"Gracias\") "
   ]
  },
  {
   "cell_type": "code",
   "execution_count": 62,
   "metadata": {},
   "outputs": [
    {
     "name": "stdout",
     "output_type": "stream",
     "text": [
      "Vaya, que lástima\n"
     ]
    }
   ],
   "source": [
    "fav = \"lastima.net\"\n",
    "if fav == \"mundogeek.net\":\n",
    "    print (\"Tienes buen gusto!\")\n",
    "    print (\"Gracias\") \n",
    "else:\n",
    "    print (\"Vaya, que lástima\")"
   ]
  },
  {
   "cell_type": "code",
   "execution_count": 63,
   "metadata": {},
   "outputs": [
    {
     "name": "stdout",
     "output_type": "stream",
     "text": [
      "Cero\n"
     ]
    }
   ],
   "source": [
    "numero = 0\n",
    "if numero < 0:\n",
    "    print (\"Negativo\")\n",
    "elif numero > 0:\n",
    "    print (\"Positivo\")\n",
    "else:\n",
    "    print (\"Cero\")"
   ]
  },
  {
   "cell_type": "code",
   "execution_count": 64,
   "metadata": {},
   "outputs": [
    {
     "name": "stdout",
     "output_type": "stream",
     "text": [
      "impar\n"
     ]
    }
   ],
   "source": [
    "# También existe una construcción similar al operador ? de otros lenguajes, que no es más que una forma compacta de \n",
    "# expresar un if else. En esta construcción se evalúa el predicado C y se devuelve A si se cumple o B si no se cumple: \n",
    "# A if C else B. Veamos un ejemplo:\n",
    "num = 5\n",
    "var = \"par\" if (num % 2 == 0) else \"impar\"\n",
    "print (var)"
   ]
  },
  {
   "cell_type": "markdown",
   "metadata": {},
   "source": [
    "# Control de flujo - Bucles"
   ]
  },
  {
   "cell_type": "code",
   "execution_count": 66,
   "metadata": {},
   "outputs": [
    {
     "name": "stdout",
     "output_type": "stream",
     "text": [
      "Felicidades, tienes 1\n",
      "Felicidades, tienes 2\n",
      "Felicidades, tienes 3\n"
     ]
    }
   ],
   "source": [
    "# while El bucle while (mientras) ejecuta un fragmento de código mientras se cumpla una condición.\n",
    "edad = 0\n",
    "while edad < 3:\n",
    "    edad = edad + 1\n",
    "    print (\"Felicidades, tienes \" + str(edad))"
   ]
  },
  {
   "cell_type": "code",
   "execution_count": 67,
   "metadata": {},
   "outputs": [
    {
     "name": "stdout",
     "output_type": "stream",
     "text": [
      "> adios\n"
     ]
    }
   ],
   "source": [
    "# Sin embargo hay situaciones en las que un bucle infinito es útil. Por ejemplo, veamos un pequeño programa que repite \n",
    "# todo lo que el usuario diga hasta que escriba adios.\n",
    "while True:\n",
    "    entrada = input(\"> \")\n",
    "    if entrada == \"adios\":\n",
    "        break\n",
    "    else:\n",
    "        print (\"entrada\")"
   ]
  },
  {
   "cell_type": "code",
   "execution_count": 68,
   "metadata": {},
   "outputs": [
    {
     "name": "stdout",
     "output_type": "stream",
     "text": [
      "Felicidades, tienes1\n",
      "Felicidades, tienes3\n",
      "Felicidades, tienes5\n"
     ]
    }
   ],
   "source": [
    "# Otra palabra clave que nos podemos encontrar dentro de los bucles es continue (continuar). Como habréis adivinado no hace \n",
    "# otra cosa que pasar directamente a la siguiente iteración del bucle.\n",
    "edad = 0\n",
    "while edad < 5:\n",
    "    edad = edad + 1\n",
    "    if edad % 2 == 0:\n",
    "        continue\n",
    "    print (\"Felicidades, tienes\" + str(edad))"
   ]
  },
  {
   "cell_type": "code",
   "execution_count": 7,
   "metadata": {},
   "outputs": [
    {
     "name": "stdout",
     "output_type": "stream",
     "text": [
      "elemento: 1 secuencia: uno\n",
      "elemento: 2 secuencia: dos\n",
      "elemento: 3 secuencia: tres\n"
     ]
    }
   ],
   "source": [
    "# for … in A los que hayáis tenido experiencia previa con según que lenguajes este bucle os va a sorprender gratamente. \n",
    "# En Python for se utiliza como una forma genérica de iterar sobre una secuencia. Y como tal intenta facilitar su uso \n",
    "# para este fin.\n",
    "secuencia = [\"uno\", \"dos\", \"tres\"]\n",
    "i = 0\n",
    "for elemento in secuencia:\n",
    "    i = i + 1\n",
    "    print (\"elemento: \" + str(i) + \" secuencia: \" + str(elemento))"
   ]
  }
 ],
 "metadata": {
  "kernelspec": {
   "display_name": "Python 3",
   "language": "python",
   "name": "python3"
  },
  "language_info": {
   "codemirror_mode": {
    "name": "ipython",
    "version": 3
   },
   "file_extension": ".py",
   "mimetype": "text/x-python",
   "name": "python",
   "nbconvert_exporter": "python",
   "pygments_lexer": "ipython3",
   "version": "3.8.3"
  }
 },
 "nbformat": 4,
 "nbformat_minor": 4
}
