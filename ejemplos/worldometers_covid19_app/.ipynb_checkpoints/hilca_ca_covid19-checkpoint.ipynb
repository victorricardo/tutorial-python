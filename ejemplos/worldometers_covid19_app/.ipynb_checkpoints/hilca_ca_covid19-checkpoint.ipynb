{
 "cells": [
  {
   "cell_type": "code",
   "execution_count": 412,
   "metadata": {},
   "outputs": [],
   "source": [
    "# If you don't have Beautiful Soup, install with 'conda install beautifulsoup' in terminal\n",
    "# Python requires us to explicitly load the libraries that we want to use:\n",
    "import requests\n",
    "import bs4\n",
    "import re"
   ]
  },
  {
   "cell_type": "code",
   "execution_count": 413,
   "metadata": {},
   "outputs": [],
   "source": [
    "# Load a webpage into python so that we can parse it and manipulate it.\n",
    "URL = 'https://www.worldometers.info/coronavirus/#page-top'"
   ]
  },
  {
   "cell_type": "code",
   "execution_count": 414,
   "metadata": {},
   "outputs": [],
   "source": [
    "# Control of Connection\n",
    "# We just turned the website code into a Python object. \n",
    "response = requests.get(URL)\n",
    "soup = bs4.BeautifulSoup(response.text, \"html.parser\")"
   ]
  },
  {
   "cell_type": "code",
   "execution_count": 415,
   "metadata": {},
   "outputs": [],
   "source": [
    "# find all the tags with class total world data\n",
    "data = soup.findAll(attrs={'class':['total_row_world']})"
   ]
  },
  {
   "cell_type": "code",
   "execution_count": 416,
   "metadata": {},
   "outputs": [],
   "source": [
    "# f = open('hilca_ca_covid19.csv','w') # open new file, make sure path to your data file is correct\n",
    "# f.write(\"Date of illness onsetFootnote\\tNewly reported cases\\tDomestic - Contact with a COVID case\\tDomestic - Contact with a traveller\\tDomestic - Unknown\\tTravelled outside of Canada\\tInformation pending\" + \"\\n\") # write headers"
   ]
  },
  {
   "cell_type": "code",
   "execution_count": 417,
   "metadata": {},
   "outputs": [],
   "source": [
    "# Clear HTML tag and insert text in array\n",
    "results = []                              # Inicializa arreglo results\n",
    "textall  = '' \n",
    "for element in data:                      # Itera sobre el arreglo data\n",
    "     TAG_RE = re.compile(r'<[^>]+>')      # Prepara patron para limpiar tag html de las cadenas str(element)\n",
    "     text = TAG_RE.sub('', str(element))  # Aplica patron y limpia tag html de text\n",
    "     textall  = textall + text \n",
    "text = textall"
   ]
  },
  {
   "cell_type": "code",
   "execution_count": 418,
   "metadata": {},
   "outputs": [
    {
     "name": "stdout",
     "output_type": "stream",
     "text": [
      "North America\n",
      "11,570,296\n",
      "+15,583\n",
      "356,773\n",
      "+615\n",
      "7,638,319\n",
      "+8,607\n",
      "3,575,204\n",
      "21,519\n",
      "\n",
      "\n",
      "\n",
      "\n",
      "\n",
      "Asia\n",
      "14,010,181\n",
      "+69,013\n",
      "248,511\n",
      "+1,117\n",
      "12,505,646\n",
      "+72,588\n",
      "1,256,024\n",
      "22,424\n",
      "\n",
      "\n",
      "\n",
      "\n",
      "\n",
      "South America\n",
      "9,778,761\n",
      "+909\n",
      "297,480\n",
      "+31\n",
      "8,771,629\n",
      "+1,800\n",
      "709,652\n",
      "17,981\n",
      "\n",
      "\n",
      "\n",
      "\n",
      "\n",
      "Europe\n",
      "10,830,085\n",
      "+125,903\n",
      "275,868\n",
      "+1,906\n",
      "4,046,121\n",
      "+54,984\n",
      "6,508,096\n",
      "24,025\n",
      "\n",
      "\n",
      "\n",
      "\n",
      "\n",
      "Africa\n",
      "1,827,628\n",
      "+2,616\n",
      "43,815\n",
      "+38\n",
      "1,490,164\n",
      "+1,012\n",
      "293,649\n",
      "2,401\n",
      "\n",
      "\n",
      "\n",
      "\n",
      "\n",
      "Oceania\n",
      "39,215\n",
      "+20\n",
      "979\n",
      "\n",
      "32,753\n",
      "+20\n",
      "5,483\n",
      "27\n",
      "\n",
      "\n",
      "\n",
      "\n",
      "\n",
      "World\n",
      "48,056,887\n",
      "+214,044\n",
      "1,223,441\n",
      "+3,707\n",
      "34,485,291\n",
      "+139,011\n",
      "12,348,155\n",
      "88,381\n",
      "6,165\n",
      "157.0\n",
      "\n",
      "\n",
      "\n",
      "\n"
     ]
    }
   ],
   "source": [
    "text = text.split(\"\\n\",3)[3] # Limpia los primeros 28 lineas de la cadena\n",
    "# text = text.replace(\"\\n\",  \"1\\n\") # Limpia los primeros 28 lineas de la cadena\n",
    "text = text.replace(\"North America\\n\\n\\n\\n\\n\\n\\n\\n\", \"\") # Limpia los primeros 28 lineas de la cadena\n",
    "text = text.replace(\"Asia\\n\\n\\n\\n\\n\\n\\n\\n\", \"\") # Limpia los primeros 28 lineas de la cadena\n",
    "text = text.replace(\"South America\\n\\n\\n\\n\\n\\n\\n\\n\", \"\") # Limpia los primeros 28 lineas de la cadena\n",
    "text = text.replace(\"Europe\\n\\n\\n\\n\\n\\n\\n\\n\", \"\") # Limpia los primeros 28 lineas de la cadena\n",
    "text = text.replace(\"Africa\\n\\n\\n\\n\\n\\n\\n\\n\", \"\") # Limpia los primeros 28 lineas de la cadena\n",
    "\n",
    "text = text.replace(\"North America\\n\", \"North America\") # Limpia los primeros 28 lineas de la cadena\n",
    "text = text.replace(\"Asia\\n\", \"Asia\") # Limpia los primeros 28 lineas de la cadena\n",
    "text = text.replace(\"South America\\n\", \"South America\") # Limpia los primeros 28 lineas de la cadena\n",
    "text = text.replace(\"Europe\\n\", \"Europe\") # Limpia los primeros 28 lineas de la cadena\n",
    "text = text.replace(\"Africa\\n\", \"Africa\") # Limpia los primeros 28 lineas de la cadena\n",
    "text = text.replace(\"Oceania\\n\", \"Oceania\") # Limpia los primeros 28 lineas de la cadena\n",
    "\n",
    "# text = text.replace(\"North America \\n\\n\\n\\n\\n\", \"North America\") # Limpia los primeros 28 lineas de la cadena\n",
    "# text = text.replace(\"Asia \\n\\n\\n\\n\\n\", \"Asia\") # Limpia los primeros 28 lineas de la cadena\n",
    "# text = text.replace(\"South America \\n\\n\\n\\n\\n\", \"South America\") # Limpia los primeros 28 lineas de la cadena\n",
    "# text = text.replace(\"Europe \\n\\n\\n\\n\\n\", \"Europe\") # Limpia los primeros 28 lineas de la cadena\n",
    "# text = text.replace(\"Africa \\n\\n\\n\\n\\n\", \"Africa\") # Limpia los primeros 28 lineas de la cadena\n",
    "\n",
    "# text = text.replace(\"\\n\",  \"1\\n\") # Limpia los primeros 28 lineas de la cadena\n",
    "\n",
    "australia = int(text.find('Australia/Oceania'))\n",
    "\n",
    "#print (Australia)\n",
    "# text = text.split(\"\\n\", 442)[442, 20] # Limpia los primeros 28 lineas de la cadena\n",
    "text = text[:australia] + text[(australia+57):]\n",
    "\n",
    "largo = len(text)\n",
    "\n",
    "All = int(text.find('All'))\n",
    "\n",
    "text = text[:All] + text[(All+largo):]\n",
    "\n",
    "print (text)\n",
    "\n",
    "\n",
    "\n",
    "\n"
   ]
  },
  {
   "cell_type": "code",
   "execution_count": null,
   "metadata": {},
   "outputs": [],
   "source": [
    "# results = [] \n",
    "# results_explode = text.split(\"\\n\")\n",
    "# print (results_explode)"
   ]
  },
  {
   "cell_type": "code",
   "execution_count": 33,
   "metadata": {},
   "outputs": [],
   "source": []
  },
  {
   "cell_type": "code",
   "execution_count": 34,
   "metadata": {},
   "outputs": [],
   "source": [
    "# Close file\n",
    "# f.close() # close file"
   ]
  },
  {
   "cell_type": "code",
   "execution_count": null,
   "metadata": {},
   "outputs": [],
   "source": []
  }
 ],
 "metadata": {
  "kernelspec": {
   "display_name": "Python 3",
   "language": "python",
   "name": "python3"
  },
  "language_info": {
   "codemirror_mode": {
    "name": "ipython",
    "version": 3
   },
   "file_extension": ".py",
   "mimetype": "text/x-python",
   "name": "python",
   "nbconvert_exporter": "python",
   "pygments_lexer": "ipython3",
   "version": "3.8.3"
  }
 },
 "nbformat": 4,
 "nbformat_minor": 2
}
